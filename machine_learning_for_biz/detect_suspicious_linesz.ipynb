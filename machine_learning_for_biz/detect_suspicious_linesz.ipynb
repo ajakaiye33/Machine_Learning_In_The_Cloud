{
 "cells": [
  {
   "cell_type": "markdown",
   "metadata": {},
   "source": [
    "# Should you question an invoice sent by a supplier\n"
   ]
  },
  {
   "cell_type": "markdown",
   "metadata": {},
   "source": [
    "For updates on the way Sagemaker or AWS behave compared to the notebook code, please refer to https://livebook.manning.com/#!/book/machine-learning-for-business/chapter-5/v-5/137"
   ]
  },
  {
   "cell_type": "markdown",
   "metadata": {},
   "source": [
    "## Part 1: Load and examine the data"
   ]
  },
  {
   "cell_type": "markdown",
   "metadata": {},
   "source": [
    "To run the code in the notebook cell, change the name of the data_bucket from 'machliba' to the data_bucket holding your data and click into the cell and press Ctrl+Enter."
   ]
  },
  {
   "cell_type": "code",
   "execution_count": 1,
   "metadata": {},
   "outputs": [],
   "source": [
    "data_bucket = 'ml4-business' \n",
    "subfolder = 'ch05' \n",
    "dataset = 'activities.csv' "
   ]
  },
  {
   "cell_type": "code",
   "execution_count": 2,
   "metadata": {},
   "outputs": [],
   "source": [
    "import pandas as pd\n",
    "import boto3\n",
    "import s3fs\n",
    "import sagemaker\n",
    "from sklearn.model_selection import train_test_split\n",
    "import json\n",
    "import csv\n",
    "from time import sleep\n",
    "\n",
    "role = sagemaker.get_execution_role()\n",
    "s3 = s3fs.S3FileSystem(anon=False)"
   ]
  },
  {
   "cell_type": "code",
   "execution_count": 3,
   "metadata": {},
   "outputs": [
    {
     "data": {
      "text/html": [
       "<div>\n",
       "<style scoped>\n",
       "    .dataframe tbody tr th:only-of-type {\n",
       "        vertical-align: middle;\n",
       "    }\n",
       "\n",
       "    .dataframe tbody tr th {\n",
       "        vertical-align: top;\n",
       "    }\n",
       "\n",
       "    .dataframe thead th {\n",
       "        text-align: right;\n",
       "    }\n",
       "</style>\n",
       "<table border=\"1\" class=\"dataframe\">\n",
       "  <thead>\n",
       "    <tr style=\"text-align: right;\">\n",
       "      <th></th>\n",
       "      <th>Matter Number</th>\n",
       "      <th>Firm Name</th>\n",
       "      <th>Matter Type</th>\n",
       "      <th>Resource</th>\n",
       "      <th>Activity</th>\n",
       "      <th>Minutes</th>\n",
       "      <th>Fee</th>\n",
       "      <th>Total</th>\n",
       "      <th>Error</th>\n",
       "    </tr>\n",
       "  </thead>\n",
       "  <tbody>\n",
       "    <tr>\n",
       "      <th>5</th>\n",
       "      <td>0</td>\n",
       "      <td>Cox Group</td>\n",
       "      <td>Antitrust</td>\n",
       "      <td>Paralegal</td>\n",
       "      <td>Attend Court</td>\n",
       "      <td>110</td>\n",
       "      <td>50</td>\n",
       "      <td>91.67</td>\n",
       "      <td>False</td>\n",
       "    </tr>\n",
       "    <tr>\n",
       "      <th>6</th>\n",
       "      <td>0</td>\n",
       "      <td>Cox Group</td>\n",
       "      <td>Antitrust</td>\n",
       "      <td>Junior</td>\n",
       "      <td>Attend Court</td>\n",
       "      <td>505</td>\n",
       "      <td>150</td>\n",
       "      <td>1262.50</td>\n",
       "      <td>True</td>\n",
       "    </tr>\n",
       "    <tr>\n",
       "      <th>7</th>\n",
       "      <td>0</td>\n",
       "      <td>Cox Group</td>\n",
       "      <td>Antitrust</td>\n",
       "      <td>Paralegal</td>\n",
       "      <td>Attend Meeting</td>\n",
       "      <td>60</td>\n",
       "      <td>50</td>\n",
       "      <td>50.00</td>\n",
       "      <td>False</td>\n",
       "    </tr>\n",
       "  </tbody>\n",
       "</table>\n",
       "</div>"
      ],
      "text/plain": [
       "   Matter Number  Firm Name Matter Type   Resource        Activity  Minutes  \\\n",
       "5              0  Cox Group   Antitrust  Paralegal    Attend Court      110   \n",
       "6              0  Cox Group   Antitrust     Junior    Attend Court      505   \n",
       "7              0  Cox Group   Antitrust  Paralegal  Attend Meeting       60   \n",
       "\n",
       "   Fee    Total  Error  \n",
       "5   50    91.67  False  \n",
       "6  150  1262.50   True  \n",
       "7   50    50.00  False  "
      ]
     },
     "metadata": {},
     "output_type": "display_data"
    }
   ],
   "source": [
    "df = pd.read_csv(f's3://{data_bucket}/{subfolder}/{dataset}')\n",
    "display(df[5:8])"
   ]
  },
  {
   "cell_type": "code",
   "execution_count": 4,
   "metadata": {},
   "outputs": [
    {
     "data": {
      "text/plain": [
       "False    103935\n",
       "True       2030\n",
       "Name: Error, dtype: int64"
      ]
     },
     "execution_count": 4,
     "metadata": {},
     "output_type": "execute_result"
    }
   ],
   "source": [
    "df['Error'].value_counts() # Display the number of error lines: False = no error. True = error."
   ]
  },
  {
   "cell_type": "code",
   "execution_count": 5,
   "metadata": {},
   "outputs": [
    {
     "name": "stdout",
     "output_type": "stream",
     "text": [
      "Number of rows in dataset: 105965\n",
      "\n",
      "Matter types:\n",
      "Antitrust                 23922\n",
      "Insolvency                16499\n",
      "IPO                       14236\n",
      "Commercial arbitration    12927\n",
      "Project finance           11776\n",
      "M&A                        6460\n",
      "Structured finance         5498\n",
      "Asset recovery             4913\n",
      "Tax planning               4871\n",
      "Securities litigation      4863\n",
      "Name: Matter Type, dtype: int64\n",
      "\n",
      "Resources:\n",
      "Partner      26587\n",
      "Junior       26543\n",
      "Paralegal    26519\n",
      "Senior       26316\n",
      "Name: Resource, dtype: int64\n",
      "\n",
      "Activities:\n",
      "Prepare Opinion    26605\n",
      "Phone Call         26586\n",
      "Attend Court       26405\n",
      "Attend Meeting     26369\n",
      "Name: Activity, dtype: int64\n"
     ]
    }
   ],
   "source": [
    "print(f'Number of rows in dataset: {df.shape[0]}')\n",
    "print()\n",
    "print('Matter types:')\n",
    "print(df['Matter Type'].value_counts())\n",
    "print()\n",
    "print('Resources:')\n",
    "print(df['Resource'].value_counts())\n",
    "print()\n",
    "print('Activities:')\n",
    "print(df['Activity'].value_counts())"
   ]
  },
  {
   "cell_type": "markdown",
   "metadata": {},
   "source": [
    "## Part 2: Get the data into the right shape"
   ]
  },
  {
   "cell_type": "code",
   "execution_count": 6,
   "metadata": {
    "scrolled": false
   },
   "outputs": [
    {
     "data": {
      "text/html": [
       "<div>\n",
       "<style scoped>\n",
       "    .dataframe tbody tr th:only-of-type {\n",
       "        vertical-align: middle;\n",
       "    }\n",
       "\n",
       "    .dataframe tbody tr th {\n",
       "        vertical-align: top;\n",
       "    }\n",
       "\n",
       "    .dataframe thead th {\n",
       "        text-align: right;\n",
       "    }\n",
       "</style>\n",
       "<table border=\"1\" class=\"dataframe\">\n",
       "  <thead>\n",
       "    <tr style=\"text-align: right;\">\n",
       "      <th></th>\n",
       "      <th>Matter Number</th>\n",
       "      <th>Firm Name</th>\n",
       "      <th>Minutes</th>\n",
       "      <th>Fee</th>\n",
       "      <th>Total</th>\n",
       "      <th>Error</th>\n",
       "      <th>Matter Type_Antitrust</th>\n",
       "      <th>Matter Type_Asset recovery</th>\n",
       "      <th>Matter Type_Commercial arbitration</th>\n",
       "      <th>Matter Type_IPO</th>\n",
       "      <th>...</th>\n",
       "      <th>Matter Type_Structured finance</th>\n",
       "      <th>Matter Type_Tax planning</th>\n",
       "      <th>Resource_Junior</th>\n",
       "      <th>Resource_Paralegal</th>\n",
       "      <th>Resource_Partner</th>\n",
       "      <th>Resource_Senior</th>\n",
       "      <th>Activity_Attend Court</th>\n",
       "      <th>Activity_Attend Meeting</th>\n",
       "      <th>Activity_Phone Call</th>\n",
       "      <th>Activity_Prepare Opinion</th>\n",
       "    </tr>\n",
       "  </thead>\n",
       "  <tbody>\n",
       "    <tr>\n",
       "      <th>0</th>\n",
       "      <td>0</td>\n",
       "      <td>Cox Group</td>\n",
       "      <td>85</td>\n",
       "      <td>70</td>\n",
       "      <td>99.17</td>\n",
       "      <td>False</td>\n",
       "      <td>1</td>\n",
       "      <td>0</td>\n",
       "      <td>0</td>\n",
       "      <td>0</td>\n",
       "      <td>...</td>\n",
       "      <td>0</td>\n",
       "      <td>0</td>\n",
       "      <td>0</td>\n",
       "      <td>1</td>\n",
       "      <td>0</td>\n",
       "      <td>0</td>\n",
       "      <td>0</td>\n",
       "      <td>0</td>\n",
       "      <td>0</td>\n",
       "      <td>1</td>\n",
       "    </tr>\n",
       "    <tr>\n",
       "      <th>1</th>\n",
       "      <td>0</td>\n",
       "      <td>Cox Group</td>\n",
       "      <td>505</td>\n",
       "      <td>150</td>\n",
       "      <td>1262.50</td>\n",
       "      <td>False</td>\n",
       "      <td>1</td>\n",
       "      <td>0</td>\n",
       "      <td>0</td>\n",
       "      <td>0</td>\n",
       "      <td>...</td>\n",
       "      <td>0</td>\n",
       "      <td>0</td>\n",
       "      <td>1</td>\n",
       "      <td>0</td>\n",
       "      <td>0</td>\n",
       "      <td>0</td>\n",
       "      <td>0</td>\n",
       "      <td>0</td>\n",
       "      <td>0</td>\n",
       "      <td>1</td>\n",
       "    </tr>\n",
       "    <tr>\n",
       "      <th>2</th>\n",
       "      <td>0</td>\n",
       "      <td>Cox Group</td>\n",
       "      <td>100</td>\n",
       "      <td>180</td>\n",
       "      <td>300.00</td>\n",
       "      <td>False</td>\n",
       "      <td>1</td>\n",
       "      <td>0</td>\n",
       "      <td>0</td>\n",
       "      <td>0</td>\n",
       "      <td>...</td>\n",
       "      <td>0</td>\n",
       "      <td>0</td>\n",
       "      <td>1</td>\n",
       "      <td>0</td>\n",
       "      <td>0</td>\n",
       "      <td>0</td>\n",
       "      <td>0</td>\n",
       "      <td>0</td>\n",
       "      <td>0</td>\n",
       "      <td>1</td>\n",
       "    </tr>\n",
       "  </tbody>\n",
       "</table>\n",
       "<p>3 rows × 24 columns</p>\n",
       "</div>"
      ],
      "text/plain": [
       "   Matter Number  Firm Name  Minutes  Fee    Total  Error  \\\n",
       "0              0  Cox Group       85   70    99.17  False   \n",
       "1              0  Cox Group      505  150  1262.50  False   \n",
       "2              0  Cox Group      100  180   300.00  False   \n",
       "\n",
       "   Matter Type_Antitrust  Matter Type_Asset recovery  \\\n",
       "0                      1                           0   \n",
       "1                      1                           0   \n",
       "2                      1                           0   \n",
       "\n",
       "   Matter Type_Commercial arbitration  Matter Type_IPO  ...  \\\n",
       "0                                   0                0  ...   \n",
       "1                                   0                0  ...   \n",
       "2                                   0                0  ...   \n",
       "\n",
       "   Matter Type_Structured finance  Matter Type_Tax planning  Resource_Junior  \\\n",
       "0                               0                         0                0   \n",
       "1                               0                         0                1   \n",
       "2                               0                         0                1   \n",
       "\n",
       "   Resource_Paralegal  Resource_Partner  Resource_Senior  \\\n",
       "0                   1                 0                0   \n",
       "1                   0                 0                0   \n",
       "2                   0                 0                0   \n",
       "\n",
       "   Activity_Attend Court  Activity_Attend Meeting  Activity_Phone Call  \\\n",
       "0                      0                        0                    0   \n",
       "1                      0                        0                    0   \n",
       "2                      0                        0                    0   \n",
       "\n",
       "   Activity_Prepare Opinion  \n",
       "0                         1  \n",
       "1                         1  \n",
       "2                         1  \n",
       "\n",
       "[3 rows x 24 columns]"
      ]
     },
     "execution_count": 6,
     "metadata": {},
     "output_type": "execute_result"
    }
   ],
   "source": [
    "encoded_df = pd.get_dummies(df, columns=['Matter Type','Resource','Activity']) \n",
    "encoded_df.head(3)"
   ]
  },
  {
   "cell_type": "markdown",
   "metadata": {},
   "source": [
    "## Part 3: Create training and validation datasets"
   ]
  },
  {
   "cell_type": "code",
   "execution_count": 7,
   "metadata": {
    "scrolled": true
   },
   "outputs": [
    {
     "name": "stdout",
     "output_type": "stream",
     "text": [
      "84772 rows in training data\n",
      "21193 rows in validation data\n"
     ]
    }
   ],
   "source": [
    "train_df, val_df, _, _ = train_test_split(encoded_df, encoded_df['Error'], test_size=0.2, random_state=0)\n",
    "train_df_no_result = train_df.drop(['Error','Firm Name'], axis=1)\n",
    "val_df_no_result = val_df.drop(['Error','Firm Name'], axis=1)\n",
    "print(f'{train_df.shape[0]} rows in training data')\n",
    "print(f'{val_df.shape[0]} rows in validation data')"
   ]
  },
  {
   "cell_type": "markdown",
   "metadata": {},
   "source": [
    "## Part 4: Train the model\n",
    "\n"
   ]
  },
  {
   "cell_type": "code",
   "execution_count": 8,
   "metadata": {},
   "outputs": [
    {
     "name": "stdout",
     "output_type": "stream",
     "text": [
      "2020-04-06 17:53:14 Starting - Starting the training job...\n",
      "2020-04-06 17:53:15 Starting - Launching requested ML instances......\n",
      "2020-04-06 17:54:19 Starting - Preparing the instances for training...\n",
      "2020-04-06 17:55:13 Downloading - Downloading input data...\n",
      "2020-04-06 17:55:28 Training - Downloading the training image....\u001b[34mDocker entrypoint called with argument(s): train\u001b[0m\n",
      "\u001b[34m/opt/amazon/lib/python2.7/site-packages/scipy/_lib/_numpy_compat.py:10: DeprecationWarning: Importing from numpy.testing.nosetester is deprecated, import from numpy.testing instead.\n",
      "  from numpy.testing.nosetester import import_nose\u001b[0m\n",
      "\u001b[34m/opt/amazon/lib/python2.7/site-packages/scipy/stats/morestats.py:12: DeprecationWarning: Importing from numpy.testing.decorators is deprecated, import from numpy.testing instead.\n",
      "  from numpy.testing.decorators import setastest\u001b[0m\n",
      "\u001b[34m[04/06/2020 17:56:20 INFO 140404825405248] Reading default configuration from /opt/amazon/lib/python2.7/site-packages/algorithm/resources/default-conf.json: {u'_ftp_port': 8999, u'num_samples_per_tree': 256, u'_tuning_objective_metric': u'', u'_num_gpus': u'auto', u'_log_level': u'info', u'_kvstore': u'dist_async', u'force_dense': u'true', u'epochs': 1, u'num_trees': 100, u'eval_metrics': [u'accuracy', u'precision_recall_fscore'], u'_num_kv_servers': u'auto', u'mini_batch_size': 1000}\u001b[0m\n",
      "\u001b[34m[04/06/2020 17:56:20 INFO 140404825405248] Reading provided configuration from /opt/ml/input/config/hyperparameters.json: {u'mini_batch_size': u'1000', u'feature_dim': u'22', u'num_samples_per_tree': u'100', u'num_trees': u'50'}\u001b[0m\n",
      "\u001b[34m[04/06/2020 17:56:20 INFO 140404825405248] Final configuration: {u'_ftp_port': 8999, u'num_samples_per_tree': u'100', u'_tuning_objective_metric': u'', u'_num_gpus': u'auto', u'_log_level': u'info', u'_kvstore': u'dist_async', u'force_dense': u'true', u'epochs': 1, u'feature_dim': u'22', u'num_trees': u'50', u'eval_metrics': [u'accuracy', u'precision_recall_fscore'], u'_num_kv_servers': u'auto', u'mini_batch_size': u'1000'}\u001b[0m\n",
      "\u001b[34m[04/06/2020 17:56:20 WARNING 140404825405248] Loggers have already been setup.\u001b[0m\n",
      "\u001b[34m[04/06/2020 17:56:20 INFO 140404825405248] Launching parameter server for role scheduler\u001b[0m\n",
      "\u001b[34m[04/06/2020 17:56:20 INFO 140404825405248] {'ECS_CONTAINER_METADATA_URI': 'http://169.254.170.2/v3/236bcea0-68d8-40e0-95e7-8ded9a6e457d', 'PROTOCOL_BUFFERS_PYTHON_IMPLEMENTATION_VERSION': '2', 'PATH': '/opt/amazon/bin:/usr/local/nvidia/bin:/usr/local/sbin:/usr/local/bin:/usr/sbin:/usr/bin:/sbin:/bin:/opt/amazon/bin:/opt/amazon/bin', 'SAGEMAKER_HTTP_PORT': '8080', 'HOME': '/root', 'PYTHONUNBUFFERED': 'TRUE', 'CANONICAL_ENVROOT': '/opt/amazon', 'LD_LIBRARY_PATH': '/opt/amazon/lib/python2.7/site-packages/cv2/../../../../lib:/usr/local/nvidia/lib64:/opt/amazon/lib', 'MXNET_KVSTORE_BIGARRAY_BOUND': '400000000', 'LANG': 'en_US.utf8', 'DMLC_INTERFACE': 'eth0', 'SHLVL': '1', 'AWS_REGION': 'us-east-1', 'NVIDIA_DRIVER_CAPABILITIES': 'compute,utility', 'NVIDIA_VISIBLE_DEVICES': 'void', 'TRAINING_JOB_NAME': 'randomcutforest-2020-04-06-17-53-14-033', 'PROTOCOL_BUFFERS_PYTHON_IMPLEMENTATION': 'cpp', 'ENVROOT': '/opt/amazon', 'SAGEMAKER_DATA_PATH': '/opt/ml', 'SAGEMAKER_METRICS_DIRECTORY': '/opt/ml/output/metrics/sagemaker', 'NVIDIA_REQUIRE_CUDA': 'cuda>=9.0', 'OMP_NUM_THREADS': '2', 'HOSTNAME': 'ip-10-0-184-77.ec2.internal', 'AWS_CONTAINER_CREDENTIALS_RELATIVE_URI': '/v2/credentials/c5c63383-9024-49da-afc0-7e86ac2abaea', 'PWD': '/', 'TRAINING_JOB_ARN': 'arn:aws:sagemaker:us-east-1:978973100240:training-job/randomcutforest-2020-04-06-17-53-14-033', 'AWS_EXECUTION_ENV': 'AWS_ECS_EC2'}\u001b[0m\n",
      "\u001b[34m[04/06/2020 17:56:20 INFO 140404825405248] envs={'ECS_CONTAINER_METADATA_URI': 'http://169.254.170.2/v3/236bcea0-68d8-40e0-95e7-8ded9a6e457d', 'PROTOCOL_BUFFERS_PYTHON_IMPLEMENTATION_VERSION': '2', 'DMLC_NUM_WORKER': '1', 'DMLC_PS_ROOT_PORT': '9000', 'PATH': '/opt/amazon/bin:/usr/local/nvidia/bin:/usr/local/sbin:/usr/local/bin:/usr/sbin:/usr/bin:/sbin:/bin:/opt/amazon/bin:/opt/amazon/bin', 'SAGEMAKER_HTTP_PORT': '8080', 'HOME': '/root', 'PYTHONUNBUFFERED': 'TRUE', 'CANONICAL_ENVROOT': '/opt/amazon', 'LD_LIBRARY_PATH': '/opt/amazon/lib/python2.7/site-packages/cv2/../../../../lib:/usr/local/nvidia/lib64:/opt/amazon/lib', 'MXNET_KVSTORE_BIGARRAY_BOUND': '400000000', 'LANG': 'en_US.utf8', 'DMLC_INTERFACE': 'eth0', 'SHLVL': '1', 'DMLC_PS_ROOT_URI': '10.0.184.77', 'AWS_REGION': 'us-east-1', 'NVIDIA_DRIVER_CAPABILITIES': 'compute,utility', 'NVIDIA_VISIBLE_DEVICES': 'void', 'TRAINING_JOB_NAME': 'randomcutforest-2020-04-06-17-53-14-033', 'PROTOCOL_BUFFERS_PYTHON_IMPLEMENTATION': 'cpp', 'ENVROOT': '/opt/amazon', 'SAGEMAKER_DATA_PATH': '/opt/ml', 'SAGEMAKER_METRICS_DIRECTORY': '/opt/ml/output/metrics/sagemaker', 'NVIDIA_REQUIRE_CUDA': 'cuda>=9.0', 'OMP_NUM_THREADS': '2', 'HOSTNAME': 'ip-10-0-184-77.ec2.internal', 'AWS_CONTAINER_CREDENTIALS_RELATIVE_URI': '/v2/credentials/c5c63383-9024-49da-afc0-7e86ac2abaea', 'DMLC_ROLE': 'scheduler', 'PWD': '/', 'DMLC_NUM_SERVER': '1', 'TRAINING_JOB_ARN': 'arn:aws:sagemaker:us-east-1:978973100240:training-job/randomcutforest-2020-04-06-17-53-14-033', 'AWS_EXECUTION_ENV': 'AWS_ECS_EC2'}\u001b[0m\n",
      "\u001b[34m[04/06/2020 17:56:20 INFO 140404825405248] Launching parameter server for role server\u001b[0m\n",
      "\u001b[34m[04/06/2020 17:56:20 INFO 140404825405248] {'ECS_CONTAINER_METADATA_URI': 'http://169.254.170.2/v3/236bcea0-68d8-40e0-95e7-8ded9a6e457d', 'PROTOCOL_BUFFERS_PYTHON_IMPLEMENTATION_VERSION': '2', 'PATH': '/opt/amazon/bin:/usr/local/nvidia/bin:/usr/local/sbin:/usr/local/bin:/usr/sbin:/usr/bin:/sbin:/bin:/opt/amazon/bin:/opt/amazon/bin', 'SAGEMAKER_HTTP_PORT': '8080', 'HOME': '/root', 'PYTHONUNBUFFERED': 'TRUE', 'CANONICAL_ENVROOT': '/opt/amazon', 'LD_LIBRARY_PATH': '/opt/amazon/lib/python2.7/site-packages/cv2/../../../../lib:/usr/local/nvidia/lib64:/opt/amazon/lib', 'MXNET_KVSTORE_BIGARRAY_BOUND': '400000000', 'LANG': 'en_US.utf8', 'DMLC_INTERFACE': 'eth0', 'SHLVL': '1', 'AWS_REGION': 'us-east-1', 'NVIDIA_DRIVER_CAPABILITIES': 'compute,utility', 'NVIDIA_VISIBLE_DEVICES': 'void', 'TRAINING_JOB_NAME': 'randomcutforest-2020-04-06-17-53-14-033', 'PROTOCOL_BUFFERS_PYTHON_IMPLEMENTATION': 'cpp', 'ENVROOT': '/opt/amazon', 'SAGEMAKER_DATA_PATH': '/opt/ml', 'SAGEMAKER_METRICS_DIRECTORY': '/opt/ml/output/metrics/sagemaker', 'NVIDIA_REQUIRE_CUDA': 'cuda>=9.0', 'OMP_NUM_THREADS': '2', 'HOSTNAME': 'ip-10-0-184-77.ec2.internal', 'AWS_CONTAINER_CREDENTIALS_RELATIVE_URI': '/v2/credentials/c5c63383-9024-49da-afc0-7e86ac2abaea', 'PWD': '/', 'TRAINING_JOB_ARN': 'arn:aws:sagemaker:us-east-1:978973100240:training-job/randomcutforest-2020-04-06-17-53-14-033', 'AWS_EXECUTION_ENV': 'AWS_ECS_EC2'}\u001b[0m\n",
      "\u001b[34m[04/06/2020 17:56:20 INFO 140404825405248] envs={'ECS_CONTAINER_METADATA_URI': 'http://169.254.170.2/v3/236bcea0-68d8-40e0-95e7-8ded9a6e457d', 'PROTOCOL_BUFFERS_PYTHON_IMPLEMENTATION_VERSION': '2', 'DMLC_NUM_WORKER': '1', 'DMLC_PS_ROOT_PORT': '9000', 'PATH': '/opt/amazon/bin:/usr/local/nvidia/bin:/usr/local/sbin:/usr/local/bin:/usr/sbin:/usr/bin:/sbin:/bin:/opt/amazon/bin:/opt/amazon/bin', 'SAGEMAKER_HTTP_PORT': '8080', 'HOME': '/root', 'PYTHONUNBUFFERED': 'TRUE', 'CANONICAL_ENVROOT': '/opt/amazon', 'LD_LIBRARY_PATH': '/opt/amazon/lib/python2.7/site-packages/cv2/../../../../lib:/usr/local/nvidia/lib64:/opt/amazon/lib', 'MXNET_KVSTORE_BIGARRAY_BOUND': '400000000', 'LANG': 'en_US.utf8', 'DMLC_INTERFACE': 'eth0', 'SHLVL': '1', 'DMLC_PS_ROOT_URI': '10.0.184.77', 'AWS_REGION': 'us-east-1', 'NVIDIA_DRIVER_CAPABILITIES': 'compute,utility', 'NVIDIA_VISIBLE_DEVICES': 'void', 'TRAINING_JOB_NAME': 'randomcutforest-2020-04-06-17-53-14-033', 'PROTOCOL_BUFFERS_PYTHON_IMPLEMENTATION': 'cpp', 'ENVROOT': '/opt/amazon', 'SAGEMAKER_DATA_PATH': '/opt/ml', 'SAGEMAKER_METRICS_DIRECTORY': '/opt/ml/output/metrics/sagemaker', 'NVIDIA_REQUIRE_CUDA': 'cuda>=9.0', 'OMP_NUM_THREADS': '2', 'HOSTNAME': 'ip-10-0-184-77.ec2.internal', 'AWS_CONTAINER_CREDENTIALS_RELATIVE_URI': '/v2/credentials/c5c63383-9024-49da-afc0-7e86ac2abaea', 'DMLC_ROLE': 'server', 'PWD': '/', 'DMLC_NUM_SERVER': '1', 'TRAINING_JOB_ARN': 'arn:aws:sagemaker:us-east-1:978973100240:training-job/randomcutforest-2020-04-06-17-53-14-033', 'AWS_EXECUTION_ENV': 'AWS_ECS_EC2'}\u001b[0m\n",
      "\u001b[34m[04/06/2020 17:56:20 INFO 140404825405248] Environment: {'ECS_CONTAINER_METADATA_URI': 'http://169.254.170.2/v3/236bcea0-68d8-40e0-95e7-8ded9a6e457d', 'PROTOCOL_BUFFERS_PYTHON_IMPLEMENTATION_VERSION': '2', 'DMLC_PS_ROOT_PORT': '9000', 'DMLC_NUM_WORKER': '1', 'SAGEMAKER_HTTP_PORT': '8080', 'PATH': '/opt/amazon/bin:/usr/local/nvidia/bin:/usr/local/sbin:/usr/local/bin:/usr/sbin:/usr/bin:/sbin:/bin:/opt/amazon/bin:/opt/amazon/bin', 'PYTHONUNBUFFERED': 'TRUE', 'CANONICAL_ENVROOT': '/opt/amazon', 'LD_LIBRARY_PATH': '/opt/amazon/lib/python2.7/site-packages/cv2/../../../../lib:/usr/local/nvidia/lib64:/opt/amazon/lib', 'MXNET_KVSTORE_BIGARRAY_BOUND': '400000000', 'LANG': 'en_US.utf8', 'DMLC_INTERFACE': 'eth0', 'SHLVL': '1', 'DMLC_PS_ROOT_URI': '10.0.184.77', 'AWS_REGION': 'us-east-1', 'SAGEMAKER_METRICS_DIRECTORY': '/opt/ml/output/metrics/sagemaker', 'NVIDIA_VISIBLE_DEVICES': 'void', 'TRAINING_JOB_NAME': 'randomcutforest-2020-04-06-17-53-14-033', 'HOME': '/root', 'PROTOCOL_BUFFERS_PYTHON_IMPLEMENTATION': 'cpp', 'ENVROOT': '/opt/amazon', 'SAGEMAKER_DATA_PATH': '/opt/ml', 'NVIDIA_DRIVER_CAPABILITIES': 'compute,utility', 'NVIDIA_REQUIRE_CUDA': 'cuda>=9.0', 'OMP_NUM_THREADS': '2', 'HOSTNAME': 'ip-10-0-184-77.ec2.internal', 'AWS_CONTAINER_CREDENTIALS_RELATIVE_URI': '/v2/credentials/c5c63383-9024-49da-afc0-7e86ac2abaea', 'DMLC_ROLE': 'worker', 'PWD': '/', 'DMLC_NUM_SERVER': '1', 'TRAINING_JOB_ARN': 'arn:aws:sagemaker:us-east-1:978973100240:training-job/randomcutforest-2020-04-06-17-53-14-033', 'AWS_EXECUTION_ENV': 'AWS_ECS_EC2'}\u001b[0m\n",
      "\u001b[34mProcess 31 is a shell:scheduler.\u001b[0m\n",
      "\u001b[34mProcess 32 is a shell:server.\u001b[0m\n",
      "\u001b[34mProcess 1 is a worker.\u001b[0m\n",
      "\u001b[34m[04/06/2020 17:56:20 INFO 140404825405248] Using default worker.\u001b[0m\n",
      "\u001b[34m[04/06/2020 17:56:20 INFO 140404825405248] Loaded iterator creator application/x-recordio-protobuf for content type ('application/x-recordio-protobuf', '1.0')\u001b[0m\n",
      "\u001b[34m[04/06/2020 17:56:20 INFO 140404825405248] Verifying hyperparamemters...\u001b[0m\n",
      "\u001b[34m[04/06/2020 17:56:20 INFO 140404825405248] Hyperparameters are correct.\u001b[0m\n",
      "\u001b[34m[04/06/2020 17:56:20 INFO 140404825405248] Validating that feature_dim agrees with dimensions in training data...\u001b[0m\n",
      "\u001b[34m[04/06/2020 17:56:20 INFO 140404825405248] feature_dim is correct.\u001b[0m\n",
      "\u001b[34m[04/06/2020 17:56:20 INFO 140404825405248] Validating memory limits...\u001b[0m\n",
      "\u001b[34m[04/06/2020 17:56:20 INFO 140404825405248] Available memory in bytes: 15281811456\u001b[0m\n",
      "\u001b[34m[04/06/2020 17:56:20 INFO 140404825405248] Estimated sample size in bytes: 1760000\u001b[0m\n",
      "\u001b[34m[04/06/2020 17:56:20 INFO 140404825405248] Estimated memory needed to build the forest in bytes: 4400000\u001b[0m\n",
      "\u001b[34m[04/06/2020 17:56:20 INFO 140404825405248] Memory limits validated.\u001b[0m\n",
      "\u001b[34m[04/06/2020 17:56:20 INFO 140404825405248] Starting cluster sharing facilities...\u001b[0m\n",
      "\u001b[34m[04/06/2020 17:56:20 INFO 140404825405248] Create Store: dist_async\u001b[0m\n",
      "\u001b[34m[I 20-04-06 17:56:20] >>> starting FTP server on 0.0.0.0:8999, pid=1 <<<\u001b[0m\n",
      "\u001b[34m[04/06/2020 17:56:20 INFO 140403017774848] >>> starting FTP server on 0.0.0.0:8999, pid=1 <<<\u001b[0m\n",
      "\u001b[34m[I 20-04-06 17:56:20] poller: <class 'pyftpdlib.ioloop.Epoll'>\u001b[0m\n",
      "\u001b[34m[04/06/2020 17:56:20 INFO 140403017774848] poller: <class 'pyftpdlib.ioloop.Epoll'>\u001b[0m\n",
      "\u001b[34m[I 20-04-06 17:56:20] masquerade (NAT) address: None\u001b[0m\n",
      "\u001b[34m[04/06/2020 17:56:20 INFO 140403017774848] masquerade (NAT) address: None\u001b[0m\n",
      "\u001b[34m[I 20-04-06 17:56:20] passive ports: None\u001b[0m\n",
      "\u001b[34m[04/06/2020 17:56:20 INFO 140403017774848] passive ports: None\u001b[0m\n",
      "\u001b[34m[I 20-04-06 17:56:20] use sendfile(2): False\u001b[0m\n",
      "\u001b[34m[04/06/2020 17:56:20 INFO 140403017774848] use sendfile(2): False\u001b[0m\n",
      "\u001b[34m[04/06/2020 17:56:21 INFO 140404825405248] Cluster sharing facilities started.\u001b[0m\n",
      "\u001b[34m[04/06/2020 17:56:21 INFO 140404825405248] Verifying all workers are accessible...\u001b[0m\n",
      "\u001b[34m[04/06/2020 17:56:21 INFO 140404825405248] All workers accessible.\u001b[0m\n",
      "\u001b[34m[04/06/2020 17:56:21 INFO 140404825405248] Initializing Sampler...\u001b[0m\n",
      "\u001b[34m[04/06/2020 17:56:21 INFO 140404825405248] Sampler correctly initialized.\u001b[0m\n",
      "\u001b[34m#metrics {\"Metrics\": {\"initialize.time\": {\"count\": 1, \"max\": 672.2159385681152, \"sum\": 672.2159385681152, \"min\": 672.2159385681152}}, \"EndTime\": 1586195781.646606, \"Dimensions\": {\"Host\": \"algo-1\", \"Operation\": \"training\", \"Algorithm\": \"RandomCutForest\"}, \"StartTime\": 1586195780.962808}\n",
      "\u001b[0m\n",
      "\u001b[34m#metrics {\"Metrics\": {\"Max Batches Seen Between Resets\": {\"count\": 1, \"max\": 0, \"sum\": 0.0, \"min\": 0}, \"Number of Batches Since Last Reset\": {\"count\": 1, \"max\": 0, \"sum\": 0.0, \"min\": 0}, \"Number of Records Since Last Reset\": {\"count\": 1, \"max\": 0, \"sum\": 0.0, \"min\": 0}, \"Total Batches Seen\": {\"count\": 1, \"max\": 0, \"sum\": 0.0, \"min\": 0}, \"Total Records Seen\": {\"count\": 1, \"max\": 0, \"sum\": 0.0, \"min\": 0}, \"Max Records Seen Between Resets\": {\"count\": 1, \"max\": 0, \"sum\": 0.0, \"min\": 0}, \"Reset Count\": {\"count\": 1, \"max\": 0, \"sum\": 0.0, \"min\": 0}}, \"EndTime\": 1586195781.646858, \"Dimensions\": {\"Host\": \"algo-1\", \"Meta\": \"init_train_data_iter\", \"Operation\": \"training\", \"Algorithm\": \"RandomCutForest\"}, \"StartTime\": 1586195781.646793}\n",
      "\u001b[0m\n",
      "\u001b[34m[2020-04-06 17:56:21.647] [tensorio] [info] epoch_stats={\"data_pipeline\": \"/opt/ml/input/data/train\", \"epoch\": 0, \"duration\": 683, \"num_examples\": 1, \"num_bytes\": 204000}\u001b[0m\n",
      "\u001b[34m[04/06/2020 17:56:21 INFO 140404825405248] Sampling training data...\u001b[0m\n",
      "\u001b[34m[2020-04-06 17:56:21.810] [tensorio] [info] epoch_stats={\"data_pipeline\": \"/opt/ml/input/data/train\", \"epoch\": 1, \"duration\": 162, \"num_examples\": 85, \"num_bytes\": 17293488}\u001b[0m\n",
      "\u001b[34m[04/06/2020 17:56:21 INFO 140404825405248] Sampling training data completed.\u001b[0m\n",
      "\u001b[34m#metrics {\"Metrics\": {\"epochs\": {\"count\": 1, \"max\": 1, \"sum\": 1.0, \"min\": 1}, \"update.time\": {\"count\": 1, \"max\": 169.97599601745605, \"sum\": 169.97599601745605, \"min\": 169.97599601745605}}, \"EndTime\": 1586195781.817474, \"Dimensions\": {\"Host\": \"algo-1\", \"Operation\": \"training\", \"Algorithm\": \"RandomCutForest\"}, \"StartTime\": 1586195781.646725}\n",
      "\u001b[0m\n",
      "\u001b[34m[04/06/2020 17:56:21 INFO 140404825405248] Early stop condition met. Stopping training.\u001b[0m\n",
      "\u001b[34m[04/06/2020 17:56:21 INFO 140404825405248] #progress_metric: host=algo-1, completed 100 % epochs\u001b[0m\n",
      "\u001b[34m#metrics {\"Metrics\": {\"Max Batches Seen Between Resets\": {\"count\": 1, \"max\": 85, \"sum\": 85.0, \"min\": 85}, \"Number of Batches Since Last Reset\": {\"count\": 1, \"max\": 85, \"sum\": 85.0, \"min\": 85}, \"Number of Records Since Last Reset\": {\"count\": 1, \"max\": 84772, \"sum\": 84772.0, \"min\": 84772}, \"Total Batches Seen\": {\"count\": 1, \"max\": 85, \"sum\": 85.0, \"min\": 85}, \"Total Records Seen\": {\"count\": 1, \"max\": 84772, \"sum\": 84772.0, \"min\": 84772}, \"Max Records Seen Between Resets\": {\"count\": 1, \"max\": 84772, \"sum\": 84772.0, \"min\": 84772}, \"Reset Count\": {\"count\": 1, \"max\": 1, \"sum\": 1.0, \"min\": 1}}, \"EndTime\": 1586195781.817886, \"Dimensions\": {\"Host\": \"algo-1\", \"Meta\": \"training_data_iter\", \"Operation\": \"training\", \"Algorithm\": \"RandomCutForest\", \"epoch\": 0}, \"StartTime\": 1586195781.647458}\n",
      "\u001b[0m\n",
      "\u001b[34m[04/06/2020 17:56:21 INFO 140404825405248] #throughput_metric: host=algo-1, train throughput=496957.31172 records/second\u001b[0m\n",
      "\u001b[34m[04/06/2020 17:56:21 INFO 140404825405248] Master node: building Random Cut Forest...\u001b[0m\n",
      "\u001b[34m[04/06/2020 17:56:21 INFO 140404825405248] Gathering samples...\u001b[0m\n",
      "\u001b[34m[04/06/2020 17:56:21 INFO 140404825405248] 5000 samples gathered\u001b[0m\n",
      "\u001b[34m[04/06/2020 17:56:21 INFO 140404825405248] Building Random Cut Forest...\u001b[0m\n",
      "\u001b[34m[04/06/2020 17:56:21 INFO 140404825405248] Random Cut Forest built: \n",
      "\u001b[0m\n",
      "\u001b[34mForestInfo{num_trees: 50, num_samples_in_forest: 5000, num_samples_per_tree: 100, sample_dim: 22, shingle_size: 1, trees_num_nodes: [199, 199, 199, 199, 199, 199, 199, 199, 199, 199, 199, 199, 197, 199, 199, 199, 199, 199, 199, 199, 199, 199, 197, 199, 199, 195, 197, 199, 199, 199, 197, 199, 199, 197, 199, 199, 197, 199, 199, 199, 199, 199, 199, 197, 199, 199, 197, 197, 199, 199, ], trees_depth: [17, 14, 17, 18, 17, 19, 15, 17, 20, 16, 15, 16, 12, 15, 14, 18, 16, 13, 15, 15, 15, 17, 13, 18, 14, 15, 12, 14, 12, 15, 13, 13, 15, 14, 15, 17, 16, 15, 12, 15, 15, 17, 18, 18, 14, 15, 18, 15, 14, 14, ], max_num_nodes: 199, min_num_nodes: 195, avg_num_nodes: 198, max_tree_depth: 20, min_tree_depth: 12, avg_tree_depth: 15, mem_size: 4368768}\u001b[0m\n",
      "\u001b[34m#metrics {\"Metrics\": {\"finalize.time\": {\"count\": 1, \"max\": 15.872001647949219, \"sum\": 15.872001647949219, \"min\": 15.872001647949219}, \"model.bytes\": {\"count\": 1, \"max\": 4368768, \"sum\": 4368768.0, \"min\": 4368768}, \"fit_model.time\": {\"count\": 1, \"max\": 9.341955184936523, \"sum\": 9.341955184936523, \"min\": 9.341955184936523}}, \"EndTime\": 1586195781.834085, \"Dimensions\": {\"Host\": \"algo-1\", \"Operation\": \"training\", \"Algorithm\": \"RandomCutForest\"}, \"StartTime\": 1586195781.817576}\n",
      "\u001b[0m\n",
      "\u001b[34m[04/06/2020 17:56:21 INFO 140404825405248] Master node: Serializing the RandomCutForest model\u001b[0m\n",
      "\u001b[34m#metrics {\"Metrics\": {\"serialize_model.time\": {\"count\": 1, \"max\": 33.67495536804199, \"sum\": 33.67495536804199, \"min\": 33.67495536804199}}, \"EndTime\": 1586195781.867883, \"Dimensions\": {\"Host\": \"algo-1\", \"Operation\": \"training\", \"Algorithm\": \"RandomCutForest\"}, \"StartTime\": 1586195781.834152}\n",
      "\u001b[0m\n",
      "\u001b[34m[04/06/2020 17:56:21 INFO 140404825405248] Test data is not provided.\u001b[0m\n",
      "\u001b[34m[I 20-04-06 17:56:21] >>> shutting down FTP server (0 active fds) <<<\u001b[0m\n",
      "\u001b[34m[04/06/2020 17:56:21 INFO 140403017774848] >>> shutting down FTP server (0 active fds) <<<\u001b[0m\n",
      "\u001b[34m#metrics {\"Metrics\": {\"totaltime\": {\"count\": 1, \"max\": 1135.240077972412, \"sum\": 1135.240077972412, \"min\": 1135.240077972412}, \"setuptime\": {\"count\": 1, \"max\": 205.57808876037598, \"sum\": 205.57808876037598, \"min\": 205.57808876037598}}, \"EndTime\": 1586195781.885786, \"Dimensions\": {\"Host\": \"algo-1\", \"Operation\": \"training\", \"Algorithm\": \"RandomCutForest\"}, \"StartTime\": 1586195781.867962}\n",
      "\u001b[0m\n"
     ]
    },
    {
     "name": "stdout",
     "output_type": "stream",
     "text": [
      "\n",
      "2020-04-06 17:56:29 Uploading - Uploading generated training model\n",
      "2020-04-06 17:56:29 Completed - Training job completed\n",
      "Training seconds: 76\n",
      "Billable seconds: 76\n"
     ]
    }
   ],
   "source": [
    "from sagemaker import RandomCutForest\n",
    "\n",
    "session = sagemaker.Session()\n",
    "\n",
    "rcf = RandomCutForest(role=role,\n",
    "                      train_instance_count=1,\n",
    "                      train_instance_type='ml.m4.xlarge',\n",
    "                      data_location=f's3://{data_bucket}/{subfolder}/',\n",
    "                      output_path=f's3://{data_bucket}/{subfolder}/output',\n",
    "                      num_samples_per_tree=100,\n",
    "                      num_trees=50)\n",
    "\n",
    "# automatically upload the training data to S3 and run the training job\n",
    "rcf.fit(rcf.record_set(train_df_no_result.values))"
   ]
  },
  {
   "cell_type": "markdown",
   "metadata": {},
   "source": [
    "## Part 5: Host the model"
   ]
  },
  {
   "cell_type": "code",
   "execution_count": 9,
   "metadata": {},
   "outputs": [],
   "source": [
    "endpoint_name = 'suspicious-lines'\n",
    "try:\n",
    "    session.delete_endpoint(endpoint_name)\n",
    "    print('Warning: Existing endpoint deleted to make way for your new endpoint.')\n",
    "    sleep(30)\n",
    "except:\n",
    "    pass"
   ]
  },
  {
   "cell_type": "code",
   "execution_count": 10,
   "metadata": {},
   "outputs": [
    {
     "name": "stdout",
     "output_type": "stream",
     "text": [
      "---------------!"
     ]
    }
   ],
   "source": [
    "rcf_endpoint = rcf.deploy(\n",
    "    initial_instance_count=1,\n",
    "    instance_type='ml.m4.xlarge', \n",
    "    endpoint_name=endpoint_name\n",
    ")"
   ]
  },
  {
   "cell_type": "code",
   "execution_count": 11,
   "metadata": {},
   "outputs": [],
   "source": [
    "from sagemaker.predictor import csv_serializer, json_deserializer\n",
    "\n",
    "rcf_endpoint.content_type = 'text/csv'\n",
    "rcf_endpoint.serializer = csv_serializer\n",
    "rcf_endpoint.accept = 'application/json'\n",
    "rcf_endpoint.deserializer = json_deserializer"
   ]
  },
  {
   "cell_type": "markdown",
   "metadata": {},
   "source": [
    "## Part 6: Test the model"
   ]
  },
  {
   "cell_type": "code",
   "execution_count": null,
   "metadata": {
    "scrolled": true
   },
   "outputs": [],
   "source": [
    "results = rcf_endpoint.predict(val_df_no_result.values)\n",
    "scores_df = pd.DataFrame(results['scores'])\n",
    "val_df = val_df.reset_index(drop=True)\n",
    "results_df = pd.concat([val_df, scores_df], axis=1)\n",
    "results_df['Error'].value_counts()"
   ]
  },
  {
   "cell_type": "code",
   "execution_count": null,
   "metadata": {},
   "outputs": [],
   "source": [
    "score_cutoff = results_df[results_df['Error'] == True]['score'].median()\n",
    "print(f'Score cutoff: {score_cutoff}')\n",
    "results_above_cutoff = results_df[results_df['score'] > score_cutoff]\n",
    "results_above_cutoff['Error'].value_counts()"
   ]
  },
  {
   "cell_type": "code",
   "execution_count": null,
   "metadata": {},
   "outputs": [],
   "source": [
    "results_df['Prediction'] = results_df['score'] > score_cutoff\n",
    "results_df.head()"
   ]
  },
  {
   "cell_type": "markdown",
   "metadata": {},
   "source": [
    "## Remove the Endpoint (optional)"
   ]
  },
  {
   "cell_type": "markdown",
   "metadata": {},
   "source": [
    "Comment out this cell if you want the endpoint to exist after \"run all\""
   ]
  },
  {
   "cell_type": "code",
   "execution_count": null,
   "metadata": {},
   "outputs": [],
   "source": [
    "session.delete_endpoint(endpoint_name)"
   ]
  }
 ],
 "metadata": {
  "kernelspec": {
   "display_name": "conda_python3",
   "language": "python",
   "name": "conda_python3"
  },
  "language_info": {
   "codemirror_mode": {
    "name": "ipython",
    "version": 3
   },
   "file_extension": ".py",
   "mimetype": "text/x-python",
   "name": "python",
   "nbconvert_exporter": "python",
   "pygments_lexer": "ipython3",
   "version": "3.6.5"
  }
 },
 "nbformat": 4,
 "nbformat_minor": 2
}
